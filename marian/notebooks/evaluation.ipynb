{
  "nbformat": 4,
  "nbformat_minor": 0,
  "metadata": {
    "colab": {
      "name": "evaluation.ipynb",
      "provenance": []
    },
    "kernelspec": {
      "name": "python3",
      "display_name": "Python 3"
    },
    "language_info": {
      "name": "python"
    },
    "accelerator": "GPU",
    "widgets": {
      "application/vnd.jupyter.widget-state+json": {
        "1bf1ef74506345b99e5015971d2f2da4": {
          "model_module": "@jupyter-widgets/controls",
          "model_name": "HBoxModel",
          "state": {
            "_view_name": "HBoxView",
            "_dom_classes": [],
            "_model_name": "HBoxModel",
            "_view_module": "@jupyter-widgets/controls",
            "_model_module_version": "1.5.0",
            "_view_count": null,
            "_view_module_version": "1.5.0",
            "box_style": "",
            "layout": "IPY_MODEL_582e23860fa94600998bf92311e17f51",
            "_model_module": "@jupyter-widgets/controls",
            "children": [
              "IPY_MODEL_166fbb04cc6a46e9b378263faa6616e4",
              "IPY_MODEL_b793326ceb3249a4b62264378bfd92fa"
            ]
          }
        },
        "582e23860fa94600998bf92311e17f51": {
          "model_module": "@jupyter-widgets/base",
          "model_name": "LayoutModel",
          "state": {
            "_view_name": "LayoutView",
            "grid_template_rows": null,
            "right": null,
            "justify_content": null,
            "_view_module": "@jupyter-widgets/base",
            "overflow": null,
            "_model_module_version": "1.2.0",
            "_view_count": null,
            "flex_flow": null,
            "width": null,
            "min_width": null,
            "border": null,
            "align_items": null,
            "bottom": null,
            "_model_module": "@jupyter-widgets/base",
            "top": null,
            "grid_column": null,
            "overflow_y": null,
            "overflow_x": null,
            "grid_auto_flow": null,
            "grid_area": null,
            "grid_template_columns": null,
            "flex": null,
            "_model_name": "LayoutModel",
            "justify_items": null,
            "grid_row": null,
            "max_height": null,
            "align_content": null,
            "visibility": null,
            "align_self": null,
            "height": null,
            "min_height": null,
            "padding": null,
            "grid_auto_rows": null,
            "grid_gap": null,
            "max_width": null,
            "order": null,
            "_view_module_version": "1.2.0",
            "grid_template_areas": null,
            "object_position": null,
            "object_fit": null,
            "grid_auto_columns": null,
            "margin": null,
            "display": null,
            "left": null
          }
        },
        "166fbb04cc6a46e9b378263faa6616e4": {
          "model_module": "@jupyter-widgets/controls",
          "model_name": "FloatProgressModel",
          "state": {
            "_view_name": "ProgressView",
            "style": "IPY_MODEL_7bece3dbd86242e9af77c130758b9466",
            "_dom_classes": [],
            "description": "100%",
            "_model_name": "FloatProgressModel",
            "bar_style": "success",
            "max": 163,
            "_view_module": "@jupyter-widgets/controls",
            "_model_module_version": "1.5.0",
            "value": 163,
            "_view_count": null,
            "_view_module_version": "1.5.0",
            "orientation": "horizontal",
            "min": 0,
            "description_tooltip": null,
            "_model_module": "@jupyter-widgets/controls",
            "layout": "IPY_MODEL_40cb28193d5942a38889e2647efd6c88"
          }
        },
        "b793326ceb3249a4b62264378bfd92fa": {
          "model_module": "@jupyter-widgets/controls",
          "model_name": "HTMLModel",
          "state": {
            "_view_name": "HTMLView",
            "style": "IPY_MODEL_de1dbde82b0c4dc28eb17b893da8d663",
            "_dom_classes": [],
            "description": "",
            "_model_name": "HTMLModel",
            "placeholder": "​",
            "_view_module": "@jupyter-widgets/controls",
            "_model_module_version": "1.5.0",
            "value": " 163/163 [01:20&lt;00:00,  2.01ba/s]",
            "_view_count": null,
            "_view_module_version": "1.5.0",
            "description_tooltip": null,
            "_model_module": "@jupyter-widgets/controls",
            "layout": "IPY_MODEL_9783d18443444b8a87be86607556a388"
          }
        },
        "7bece3dbd86242e9af77c130758b9466": {
          "model_module": "@jupyter-widgets/controls",
          "model_name": "ProgressStyleModel",
          "state": {
            "_view_name": "StyleView",
            "_model_name": "ProgressStyleModel",
            "description_width": "initial",
            "_view_module": "@jupyter-widgets/base",
            "_model_module_version": "1.5.0",
            "_view_count": null,
            "_view_module_version": "1.2.0",
            "bar_color": null,
            "_model_module": "@jupyter-widgets/controls"
          }
        },
        "40cb28193d5942a38889e2647efd6c88": {
          "model_module": "@jupyter-widgets/base",
          "model_name": "LayoutModel",
          "state": {
            "_view_name": "LayoutView",
            "grid_template_rows": null,
            "right": null,
            "justify_content": null,
            "_view_module": "@jupyter-widgets/base",
            "overflow": null,
            "_model_module_version": "1.2.0",
            "_view_count": null,
            "flex_flow": null,
            "width": null,
            "min_width": null,
            "border": null,
            "align_items": null,
            "bottom": null,
            "_model_module": "@jupyter-widgets/base",
            "top": null,
            "grid_column": null,
            "overflow_y": null,
            "overflow_x": null,
            "grid_auto_flow": null,
            "grid_area": null,
            "grid_template_columns": null,
            "flex": null,
            "_model_name": "LayoutModel",
            "justify_items": null,
            "grid_row": null,
            "max_height": null,
            "align_content": null,
            "visibility": null,
            "align_self": null,
            "height": null,
            "min_height": null,
            "padding": null,
            "grid_auto_rows": null,
            "grid_gap": null,
            "max_width": null,
            "order": null,
            "_view_module_version": "1.2.0",
            "grid_template_areas": null,
            "object_position": null,
            "object_fit": null,
            "grid_auto_columns": null,
            "margin": null,
            "display": null,
            "left": null
          }
        },
        "de1dbde82b0c4dc28eb17b893da8d663": {
          "model_module": "@jupyter-widgets/controls",
          "model_name": "DescriptionStyleModel",
          "state": {
            "_view_name": "StyleView",
            "_model_name": "DescriptionStyleModel",
            "description_width": "",
            "_view_module": "@jupyter-widgets/base",
            "_model_module_version": "1.5.0",
            "_view_count": null,
            "_view_module_version": "1.2.0",
            "_model_module": "@jupyter-widgets/controls"
          }
        },
        "9783d18443444b8a87be86607556a388": {
          "model_module": "@jupyter-widgets/base",
          "model_name": "LayoutModel",
          "state": {
            "_view_name": "LayoutView",
            "grid_template_rows": null,
            "right": null,
            "justify_content": null,
            "_view_module": "@jupyter-widgets/base",
            "overflow": null,
            "_model_module_version": "1.2.0",
            "_view_count": null,
            "flex_flow": null,
            "width": null,
            "min_width": null,
            "border": null,
            "align_items": null,
            "bottom": null,
            "_model_module": "@jupyter-widgets/base",
            "top": null,
            "grid_column": null,
            "overflow_y": null,
            "overflow_x": null,
            "grid_auto_flow": null,
            "grid_area": null,
            "grid_template_columns": null,
            "flex": null,
            "_model_name": "LayoutModel",
            "justify_items": null,
            "grid_row": null,
            "max_height": null,
            "align_content": null,
            "visibility": null,
            "align_self": null,
            "height": null,
            "min_height": null,
            "padding": null,
            "grid_auto_rows": null,
            "grid_gap": null,
            "max_width": null,
            "order": null,
            "_view_module_version": "1.2.0",
            "grid_template_areas": null,
            "object_position": null,
            "object_fit": null,
            "grid_auto_columns": null,
            "margin": null,
            "display": null,
            "left": null
          }
        }
      }
    }
  },
  "cells": [
    {
      "cell_type": "code",
      "metadata": {
        "id": "qDNs2Eg55soY"
      },
      "source": [
        "%%capture\n",
        "!git clone https://github.com/gunnxx/indonesian-mt-data\n",
        "!pip3 install transformers datasets sacrebleu sentencepiece"
      ],
      "execution_count": null,
      "outputs": []
    },
    {
      "cell_type": "code",
      "metadata": {
        "id": "pakWRnc8w8f6"
      },
      "source": [
        "import datasets\n",
        "from transformers import AutoTokenizer, AutoModelForSeq2SeqLM\n",
        "\n",
        "device = 'cuda'\n",
        "sacrebleu = datasets.load_metric(\"sacrebleu\")\n",
        "tokenizer = AutoTokenizer.from_pretrained(\"Wikidepia/marian-nmt-enid\")\n",
        "model = AutoModelForSeq2SeqLM.from_pretrained(\"Wikidepia/marian-nmt-enid\").to(device)"
      ],
      "execution_count": null,
      "outputs": []
    },
    {
      "cell_type": "code",
      "metadata": {
        "id": "VGPEufzeqX4X"
      },
      "source": [
        "from glob import glob\n",
        "\n",
        "test = {}\n",
        "def read_references(paths: list, src: str, trg: str):\n",
        "  assert len(paths) == 2\n",
        "  ret = {\"src\": [], \"trg\": []}\n",
        "  src_file = open(paths[0] if paths[0].endswith(src) else paths[1])\n",
        "  trg_file = open(paths[0] if paths[0].endswith(trg) else paths[1])\n",
        "  for ref_src, ref_trg in zip(src_file, trg_file):\n",
        "    ret[\"src\"].append(ref_src.strip())\n",
        "    ret[\"trg\"].append(ref_trg.strip())\n",
        "  return ret\n",
        "\n",
        "for domain_folder in glob(\"indonesian-mt-data/*/\"):\n",
        "  test_files = glob(domain_folder + \"valid.*\")\n",
        "  domain = domain_folder.split(\"/\")[1]\n",
        "  test[domain] = read_references(test_files, \"en\", \"id\")"
      ],
      "execution_count": null,
      "outputs": []
    },
    {
      "cell_type": "code",
      "metadata": {
        "id": "DgQuWuuZxKIf"
      },
      "source": [
        "dataset = datasets.Dataset.from_dict(test[\"general\"])"
      ],
      "execution_count": null,
      "outputs": []
    },
    {
      "cell_type": "code",
      "metadata": {
        "id": "eeCwSjzoxcza"
      },
      "source": [
        "def evaluate(batch):\n",
        "  inputs = tokenizer.prepare_seq2seq_batch(batch[\"src\"], return_tensors=\"pt\", padding=True).to(device)\n",
        "  pred_ids = model.generate(**inputs)\n",
        "  batch[\"pred\"] = tokenizer.batch_decode(pred_ids, skip_special_tokens=True)\n",
        "  return batch"
      ],
      "execution_count": null,
      "outputs": []
    },
    {
      "cell_type": "code",
      "metadata": {
        "colab": {
          "base_uri": "https://localhost:8080/",
          "height": 120,
          "referenced_widgets": [
            "1bf1ef74506345b99e5015971d2f2da4",
            "582e23860fa94600998bf92311e17f51",
            "166fbb04cc6a46e9b378263faa6616e4",
            "b793326ceb3249a4b62264378bfd92fa",
            "7bece3dbd86242e9af77c130758b9466",
            "40cb28193d5942a38889e2647efd6c88",
            "de1dbde82b0c4dc28eb17b893da8d663",
            "9783d18443444b8a87be86607556a388"
          ]
        },
        "id": "x40Jawywx-1H",
        "outputId": "44f43634-b9ae-4fb0-812f-151f902837c2"
      },
      "source": [
        "result = dataset.map(evaluate, batched=True, batch_size=12)"
      ],
      "execution_count": null,
      "outputs": [
        {
          "output_type": "display_data",
          "data": {
            "application/vnd.jupyter.widget-view+json": {
              "model_id": "1bf1ef74506345b99e5015971d2f2da4",
              "version_minor": 0,
              "version_major": 2
            },
            "text/plain": [
              "HBox(children=(FloatProgress(value=0.0, max=163.0), HTML(value='')))"
            ]
          },
          "metadata": {
            "tags": []
          }
        },
        {
          "output_type": "stream",
          "text": [
            "/usr/local/lib/python3.7/dist-packages/transformers/tokenization_utils_base.py:3226: FutureWarning: `prepare_seq2seq_batch` is deprecated and will be removed in version 5 of 🤗 Transformers. Use the regular `__call__` method to prepare your inputs and the tokenizer under the `with_target_tokenizer` context manager to prepare your targets. See the documentation of your specific tokenizer for more details\n",
            "  FutureWarning,\n"
          ],
          "name": "stderr"
        },
        {
          "output_type": "stream",
          "text": [
            "\n"
          ],
          "name": "stdout"
        }
      ]
    },
    {
      "cell_type": "code",
      "metadata": {
        "id": "avpcLmyj1MQZ"
      },
      "source": [
        "references = []\n",
        "for src, trg in zip(result[\"src\"], result[\"trg\"]):\n",
        "  references.append([src, trg])"
      ],
      "execution_count": null,
      "outputs": []
    },
    {
      "cell_type": "code",
      "metadata": {
        "colab": {
          "base_uri": "https://localhost:8080/"
        },
        "id": "vdNbmRZr3jv7",
        "outputId": "1e276b32-df71-4b65-823d-b9fb4d3a8db5"
      },
      "source": [
        "sacrebleu.compute(predictions=result[\"pred\"], references=references)"
      ],
      "execution_count": null,
      "outputs": [
        {
          "output_type": "execute_result",
          "data": {
            "text/plain": [
              "{'bp': 0.9751209167935732,\n",
              " 'counts': [22549, 12002, 6870, 4090],\n",
              " 'precisions': [63.33277159869677,\n",
              "  35.66610204748744,\n",
              "  21.673291690327467,\n",
              "  13.749285642249639],\n",
              " 'ref_len': 36501,\n",
              " 'score': 27.93063185245723,\n",
              " 'sys_len': 35604,\n",
              " 'totals': [35604, 33651, 31698, 29747]}"
            ]
          },
          "metadata": {
            "tags": []
          },
          "execution_count": 58
        }
      ]
    }
  ]
}